{
 "cells": [
  {
   "cell_type": "code",
   "execution_count": 1,
   "metadata": {},
   "outputs": [],
   "source": [
    "# import libraries\n",
    "import numpy as np\n",
    "import pandas as pd\n",
    "import matplotlib.pyplot as plt\n",
    "import seaborn as sns"
   ]
  },
  {
   "cell_type": "code",
   "execution_count": 2,
   "metadata": {},
   "outputs": [],
   "source": [
    "# load data\n",
    "calender_df = pd.read_csv('C:\\\\Users\\\\MSI\\\\Desktop\\\\calendar.csv')\n",
    "listings_df = pd.read_csv('C:\\\\Users\\\\MSI\\\\Desktop\\\\listings.csv')\n",
    "review_df = pd.read_csv('C:\\\\Users\\\\MSI\\\\Desktop\\\\reviews.csv')"
   ]
  },
  {
   "cell_type": "code",
   "execution_count": 3,
   "metadata": {},
   "outputs": [
    {
     "data": {
      "text/html": [
       "<div>\n",
       "<style scoped>\n",
       "    .dataframe tbody tr th:only-of-type {\n",
       "        vertical-align: middle;\n",
       "    }\n",
       "\n",
       "    .dataframe tbody tr th {\n",
       "        vertical-align: top;\n",
       "    }\n",
       "\n",
       "    .dataframe thead th {\n",
       "        text-align: right;\n",
       "    }\n",
       "</style>\n",
       "<table border=\"1\" class=\"dataframe\">\n",
       "  <thead>\n",
       "    <tr style=\"text-align: right;\">\n",
       "      <th></th>\n",
       "      <th>listing_id</th>\n",
       "      <th>date</th>\n",
       "      <th>available</th>\n",
       "      <th>price</th>\n",
       "    </tr>\n",
       "  </thead>\n",
       "  <tbody>\n",
       "    <tr>\n",
       "      <th>0</th>\n",
       "      <td>241032</td>\n",
       "      <td>2016-01-04</td>\n",
       "      <td>t</td>\n",
       "      <td>$85.00</td>\n",
       "    </tr>\n",
       "    <tr>\n",
       "      <th>1</th>\n",
       "      <td>241032</td>\n",
       "      <td>2016-01-05</td>\n",
       "      <td>t</td>\n",
       "      <td>$85.00</td>\n",
       "    </tr>\n",
       "    <tr>\n",
       "      <th>2</th>\n",
       "      <td>241032</td>\n",
       "      <td>2016-01-06</td>\n",
       "      <td>f</td>\n",
       "      <td>NaN</td>\n",
       "    </tr>\n",
       "    <tr>\n",
       "      <th>3</th>\n",
       "      <td>241032</td>\n",
       "      <td>2016-01-07</td>\n",
       "      <td>f</td>\n",
       "      <td>NaN</td>\n",
       "    </tr>\n",
       "    <tr>\n",
       "      <th>4</th>\n",
       "      <td>241032</td>\n",
       "      <td>2016-01-08</td>\n",
       "      <td>f</td>\n",
       "      <td>NaN</td>\n",
       "    </tr>\n",
       "  </tbody>\n",
       "</table>\n",
       "</div>"
      ],
      "text/plain": [
       "   listing_id        date available   price\n",
       "0      241032  2016-01-04         t  $85.00\n",
       "1      241032  2016-01-05         t  $85.00\n",
       "2      241032  2016-01-06         f     NaN\n",
       "3      241032  2016-01-07         f     NaN\n",
       "4      241032  2016-01-08         f     NaN"
      ]
     },
     "execution_count": 3,
     "metadata": {},
     "output_type": "execute_result"
    }
   ],
   "source": [
    "calender_df.head()"
   ]
  },
  {
   "cell_type": "code",
   "execution_count": 4,
   "metadata": {},
   "outputs": [
    {
     "data": {
      "text/html": [
       "<div>\n",
       "<style scoped>\n",
       "    .dataframe tbody tr th:only-of-type {\n",
       "        vertical-align: middle;\n",
       "    }\n",
       "\n",
       "    .dataframe tbody tr th {\n",
       "        vertical-align: top;\n",
       "    }\n",
       "\n",
       "    .dataframe thead th {\n",
       "        text-align: right;\n",
       "    }\n",
       "</style>\n",
       "<table border=\"1\" class=\"dataframe\">\n",
       "  <thead>\n",
       "    <tr style=\"text-align: right;\">\n",
       "      <th></th>\n",
       "      <th>id</th>\n",
       "      <th>listing_url</th>\n",
       "      <th>scrape_id</th>\n",
       "      <th>last_scraped</th>\n",
       "      <th>name</th>\n",
       "      <th>summary</th>\n",
       "      <th>space</th>\n",
       "      <th>description</th>\n",
       "      <th>experiences_offered</th>\n",
       "      <th>neighborhood_overview</th>\n",
       "      <th>...</th>\n",
       "      <th>review_scores_value</th>\n",
       "      <th>requires_license</th>\n",
       "      <th>license</th>\n",
       "      <th>jurisdiction_names</th>\n",
       "      <th>instant_bookable</th>\n",
       "      <th>cancellation_policy</th>\n",
       "      <th>require_guest_profile_picture</th>\n",
       "      <th>require_guest_phone_verification</th>\n",
       "      <th>calculated_host_listings_count</th>\n",
       "      <th>reviews_per_month</th>\n",
       "    </tr>\n",
       "  </thead>\n",
       "  <tbody>\n",
       "    <tr>\n",
       "      <th>0</th>\n",
       "      <td>241032</td>\n",
       "      <td>https://www.airbnb.com/rooms/241032</td>\n",
       "      <td>20160104002432</td>\n",
       "      <td>2016-01-04</td>\n",
       "      <td>Stylish Queen Anne Apartment</td>\n",
       "      <td>NaN</td>\n",
       "      <td>Make your self at home in this charming one-be...</td>\n",
       "      <td>Make your self at home in this charming one-be...</td>\n",
       "      <td>none</td>\n",
       "      <td>NaN</td>\n",
       "      <td>...</td>\n",
       "      <td>10.0</td>\n",
       "      <td>f</td>\n",
       "      <td>NaN</td>\n",
       "      <td>WASHINGTON</td>\n",
       "      <td>f</td>\n",
       "      <td>moderate</td>\n",
       "      <td>f</td>\n",
       "      <td>f</td>\n",
       "      <td>2</td>\n",
       "      <td>4.07</td>\n",
       "    </tr>\n",
       "    <tr>\n",
       "      <th>1</th>\n",
       "      <td>953595</td>\n",
       "      <td>https://www.airbnb.com/rooms/953595</td>\n",
       "      <td>20160104002432</td>\n",
       "      <td>2016-01-04</td>\n",
       "      <td>Bright &amp; Airy Queen Anne Apartment</td>\n",
       "      <td>Chemically sensitive? We've removed the irrita...</td>\n",
       "      <td>Beautiful, hypoallergenic apartment in an extr...</td>\n",
       "      <td>Chemically sensitive? We've removed the irrita...</td>\n",
       "      <td>none</td>\n",
       "      <td>Queen Anne is a wonderful, truly functional vi...</td>\n",
       "      <td>...</td>\n",
       "      <td>10.0</td>\n",
       "      <td>f</td>\n",
       "      <td>NaN</td>\n",
       "      <td>WASHINGTON</td>\n",
       "      <td>f</td>\n",
       "      <td>strict</td>\n",
       "      <td>t</td>\n",
       "      <td>t</td>\n",
       "      <td>6</td>\n",
       "      <td>1.48</td>\n",
       "    </tr>\n",
       "    <tr>\n",
       "      <th>2</th>\n",
       "      <td>3308979</td>\n",
       "      <td>https://www.airbnb.com/rooms/3308979</td>\n",
       "      <td>20160104002432</td>\n",
       "      <td>2016-01-04</td>\n",
       "      <td>New Modern House-Amazing water view</td>\n",
       "      <td>New modern house built in 2013.  Spectacular s...</td>\n",
       "      <td>Our house is modern, light and fresh with a wa...</td>\n",
       "      <td>New modern house built in 2013.  Spectacular s...</td>\n",
       "      <td>none</td>\n",
       "      <td>Upper Queen Anne is a charming neighborhood fu...</td>\n",
       "      <td>...</td>\n",
       "      <td>10.0</td>\n",
       "      <td>f</td>\n",
       "      <td>NaN</td>\n",
       "      <td>WASHINGTON</td>\n",
       "      <td>f</td>\n",
       "      <td>strict</td>\n",
       "      <td>f</td>\n",
       "      <td>f</td>\n",
       "      <td>2</td>\n",
       "      <td>1.15</td>\n",
       "    </tr>\n",
       "    <tr>\n",
       "      <th>3</th>\n",
       "      <td>7421966</td>\n",
       "      <td>https://www.airbnb.com/rooms/7421966</td>\n",
       "      <td>20160104002432</td>\n",
       "      <td>2016-01-04</td>\n",
       "      <td>Queen Anne Chateau</td>\n",
       "      <td>A charming apartment that sits atop Queen Anne...</td>\n",
       "      <td>NaN</td>\n",
       "      <td>A charming apartment that sits atop Queen Anne...</td>\n",
       "      <td>none</td>\n",
       "      <td>NaN</td>\n",
       "      <td>...</td>\n",
       "      <td>NaN</td>\n",
       "      <td>f</td>\n",
       "      <td>NaN</td>\n",
       "      <td>WASHINGTON</td>\n",
       "      <td>f</td>\n",
       "      <td>flexible</td>\n",
       "      <td>f</td>\n",
       "      <td>f</td>\n",
       "      <td>1</td>\n",
       "      <td>NaN</td>\n",
       "    </tr>\n",
       "    <tr>\n",
       "      <th>4</th>\n",
       "      <td>278830</td>\n",
       "      <td>https://www.airbnb.com/rooms/278830</td>\n",
       "      <td>20160104002432</td>\n",
       "      <td>2016-01-04</td>\n",
       "      <td>Charming craftsman 3 bdm house</td>\n",
       "      <td>Cozy family craftman house in beautiful neighb...</td>\n",
       "      <td>Cozy family craftman house in beautiful neighb...</td>\n",
       "      <td>Cozy family craftman house in beautiful neighb...</td>\n",
       "      <td>none</td>\n",
       "      <td>We are in the beautiful neighborhood of Queen ...</td>\n",
       "      <td>...</td>\n",
       "      <td>9.0</td>\n",
       "      <td>f</td>\n",
       "      <td>NaN</td>\n",
       "      <td>WASHINGTON</td>\n",
       "      <td>f</td>\n",
       "      <td>strict</td>\n",
       "      <td>f</td>\n",
       "      <td>f</td>\n",
       "      <td>1</td>\n",
       "      <td>0.89</td>\n",
       "    </tr>\n",
       "  </tbody>\n",
       "</table>\n",
       "<p>5 rows × 92 columns</p>\n",
       "</div>"
      ],
      "text/plain": [
       "        id                           listing_url       scrape_id last_scraped  \\\n",
       "0   241032   https://www.airbnb.com/rooms/241032  20160104002432   2016-01-04   \n",
       "1   953595   https://www.airbnb.com/rooms/953595  20160104002432   2016-01-04   \n",
       "2  3308979  https://www.airbnb.com/rooms/3308979  20160104002432   2016-01-04   \n",
       "3  7421966  https://www.airbnb.com/rooms/7421966  20160104002432   2016-01-04   \n",
       "4   278830   https://www.airbnb.com/rooms/278830  20160104002432   2016-01-04   \n",
       "\n",
       "                                  name  \\\n",
       "0         Stylish Queen Anne Apartment   \n",
       "1   Bright & Airy Queen Anne Apartment   \n",
       "2  New Modern House-Amazing water view   \n",
       "3                   Queen Anne Chateau   \n",
       "4       Charming craftsman 3 bdm house   \n",
       "\n",
       "                                             summary  \\\n",
       "0                                                NaN   \n",
       "1  Chemically sensitive? We've removed the irrita...   \n",
       "2  New modern house built in 2013.  Spectacular s...   \n",
       "3  A charming apartment that sits atop Queen Anne...   \n",
       "4  Cozy family craftman house in beautiful neighb...   \n",
       "\n",
       "                                               space  \\\n",
       "0  Make your self at home in this charming one-be...   \n",
       "1  Beautiful, hypoallergenic apartment in an extr...   \n",
       "2  Our house is modern, light and fresh with a wa...   \n",
       "3                                                NaN   \n",
       "4  Cozy family craftman house in beautiful neighb...   \n",
       "\n",
       "                                         description experiences_offered  \\\n",
       "0  Make your self at home in this charming one-be...                none   \n",
       "1  Chemically sensitive? We've removed the irrita...                none   \n",
       "2  New modern house built in 2013.  Spectacular s...                none   \n",
       "3  A charming apartment that sits atop Queen Anne...                none   \n",
       "4  Cozy family craftman house in beautiful neighb...                none   \n",
       "\n",
       "                               neighborhood_overview  ... review_scores_value  \\\n",
       "0                                                NaN  ...                10.0   \n",
       "1  Queen Anne is a wonderful, truly functional vi...  ...                10.0   \n",
       "2  Upper Queen Anne is a charming neighborhood fu...  ...                10.0   \n",
       "3                                                NaN  ...                 NaN   \n",
       "4  We are in the beautiful neighborhood of Queen ...  ...                 9.0   \n",
       "\n",
       "  requires_license license jurisdiction_names instant_bookable  \\\n",
       "0                f     NaN         WASHINGTON                f   \n",
       "1                f     NaN         WASHINGTON                f   \n",
       "2                f     NaN         WASHINGTON                f   \n",
       "3                f     NaN         WASHINGTON                f   \n",
       "4                f     NaN         WASHINGTON                f   \n",
       "\n",
       "  cancellation_policy  require_guest_profile_picture  \\\n",
       "0            moderate                              f   \n",
       "1              strict                              t   \n",
       "2              strict                              f   \n",
       "3            flexible                              f   \n",
       "4              strict                              f   \n",
       "\n",
       "  require_guest_phone_verification calculated_host_listings_count  \\\n",
       "0                                f                              2   \n",
       "1                                t                              6   \n",
       "2                                f                              2   \n",
       "3                                f                              1   \n",
       "4                                f                              1   \n",
       "\n",
       "  reviews_per_month  \n",
       "0              4.07  \n",
       "1              1.48  \n",
       "2              1.15  \n",
       "3               NaN  \n",
       "4              0.89  \n",
       "\n",
       "[5 rows x 92 columns]"
      ]
     },
     "execution_count": 4,
     "metadata": {},
     "output_type": "execute_result"
    }
   ],
   "source": [
    "listings_df.head()"
   ]
  },
  {
   "cell_type": "code",
   "execution_count": 5,
   "metadata": {},
   "outputs": [
    {
     "data": {
      "text/html": [
       "<div>\n",
       "<style scoped>\n",
       "    .dataframe tbody tr th:only-of-type {\n",
       "        vertical-align: middle;\n",
       "    }\n",
       "\n",
       "    .dataframe tbody tr th {\n",
       "        vertical-align: top;\n",
       "    }\n",
       "\n",
       "    .dataframe thead th {\n",
       "        text-align: right;\n",
       "    }\n",
       "</style>\n",
       "<table border=\"1\" class=\"dataframe\">\n",
       "  <thead>\n",
       "    <tr style=\"text-align: right;\">\n",
       "      <th></th>\n",
       "      <th>listing_id</th>\n",
       "      <th>id</th>\n",
       "      <th>date</th>\n",
       "      <th>reviewer_id</th>\n",
       "      <th>reviewer_name</th>\n",
       "      <th>comments</th>\n",
       "    </tr>\n",
       "  </thead>\n",
       "  <tbody>\n",
       "    <tr>\n",
       "      <th>0</th>\n",
       "      <td>7202016</td>\n",
       "      <td>38917982</td>\n",
       "      <td>2015-07-19</td>\n",
       "      <td>28943674</td>\n",
       "      <td>Bianca</td>\n",
       "      <td>Cute and cozy place. Perfect location to every...</td>\n",
       "    </tr>\n",
       "    <tr>\n",
       "      <th>1</th>\n",
       "      <td>7202016</td>\n",
       "      <td>39087409</td>\n",
       "      <td>2015-07-20</td>\n",
       "      <td>32440555</td>\n",
       "      <td>Frank</td>\n",
       "      <td>Kelly has a great room in a very central locat...</td>\n",
       "    </tr>\n",
       "    <tr>\n",
       "      <th>2</th>\n",
       "      <td>7202016</td>\n",
       "      <td>39820030</td>\n",
       "      <td>2015-07-26</td>\n",
       "      <td>37722850</td>\n",
       "      <td>Ian</td>\n",
       "      <td>Very spacious apartment, and in a great neighb...</td>\n",
       "    </tr>\n",
       "    <tr>\n",
       "      <th>3</th>\n",
       "      <td>7202016</td>\n",
       "      <td>40813543</td>\n",
       "      <td>2015-08-02</td>\n",
       "      <td>33671805</td>\n",
       "      <td>George</td>\n",
       "      <td>Close to Seattle Center and all it has to offe...</td>\n",
       "    </tr>\n",
       "    <tr>\n",
       "      <th>4</th>\n",
       "      <td>7202016</td>\n",
       "      <td>41986501</td>\n",
       "      <td>2015-08-10</td>\n",
       "      <td>34959538</td>\n",
       "      <td>Ming</td>\n",
       "      <td>Kelly was a great host and very accommodating ...</td>\n",
       "    </tr>\n",
       "  </tbody>\n",
       "</table>\n",
       "</div>"
      ],
      "text/plain": [
       "   listing_id        id        date  reviewer_id reviewer_name  \\\n",
       "0     7202016  38917982  2015-07-19     28943674        Bianca   \n",
       "1     7202016  39087409  2015-07-20     32440555         Frank   \n",
       "2     7202016  39820030  2015-07-26     37722850           Ian   \n",
       "3     7202016  40813543  2015-08-02     33671805        George   \n",
       "4     7202016  41986501  2015-08-10     34959538          Ming   \n",
       "\n",
       "                                            comments  \n",
       "0  Cute and cozy place. Perfect location to every...  \n",
       "1  Kelly has a great room in a very central locat...  \n",
       "2  Very spacious apartment, and in a great neighb...  \n",
       "3  Close to Seattle Center and all it has to offe...  \n",
       "4  Kelly was a great host and very accommodating ...  "
      ]
     },
     "execution_count": 5,
     "metadata": {},
     "output_type": "execute_result"
    }
   ],
   "source": [
    "review_df.head()"
   ]
  },
  {
   "cell_type": "code",
   "execution_count": 6,
   "metadata": {},
   "outputs": [
    {
     "name": "stdout",
     "output_type": "stream",
     "text": [
      "<class 'pandas.core.frame.DataFrame'>\n",
      "RangeIndex: 1393570 entries, 0 to 1393569\n",
      "Data columns (total 4 columns):\n",
      "listing_id    1393570 non-null int64\n",
      "date          1393570 non-null object\n",
      "available     1393570 non-null object\n",
      "price         934542 non-null object\n",
      "dtypes: int64(1), object(3)\n",
      "memory usage: 42.5+ MB\n"
     ]
    }
   ],
   "source": [
    "calender_df.info()"
   ]
  },
  {
   "cell_type": "code",
   "execution_count": 7,
   "metadata": {},
   "outputs": [
    {
     "name": "stdout",
     "output_type": "stream",
     "text": [
      "<class 'pandas.core.frame.DataFrame'>\n",
      "RangeIndex: 3818 entries, 0 to 3817\n",
      "Data columns (total 92 columns):\n",
      "id                                  3818 non-null int64\n",
      "listing_url                         3818 non-null object\n",
      "scrape_id                           3818 non-null int64\n",
      "last_scraped                        3818 non-null object\n",
      "name                                3818 non-null object\n",
      "summary                             3641 non-null object\n",
      "space                               3249 non-null object\n",
      "description                         3818 non-null object\n",
      "experiences_offered                 3818 non-null object\n",
      "neighborhood_overview               2786 non-null object\n",
      "notes                               2212 non-null object\n",
      "transit                             2884 non-null object\n",
      "thumbnail_url                       3498 non-null object\n",
      "medium_url                          3498 non-null object\n",
      "picture_url                         3818 non-null object\n",
      "xl_picture_url                      3498 non-null object\n",
      "host_id                             3818 non-null int64\n",
      "host_url                            3818 non-null object\n",
      "host_name                           3816 non-null object\n",
      "host_since                          3816 non-null object\n",
      "host_location                       3810 non-null object\n",
      "host_about                          2959 non-null object\n",
      "host_response_time                  3295 non-null object\n",
      "host_response_rate                  3295 non-null object\n",
      "host_acceptance_rate                3045 non-null object\n",
      "host_is_superhost                   3816 non-null object\n",
      "host_thumbnail_url                  3816 non-null object\n",
      "host_picture_url                    3816 non-null object\n",
      "host_neighbourhood                  3518 non-null object\n",
      "host_listings_count                 3816 non-null float64\n",
      "host_total_listings_count           3816 non-null float64\n",
      "host_verifications                  3818 non-null object\n",
      "host_has_profile_pic                3816 non-null object\n",
      "host_identity_verified              3816 non-null object\n",
      "street                              3818 non-null object\n",
      "neighbourhood                       3402 non-null object\n",
      "neighbourhood_cleansed              3818 non-null object\n",
      "neighbourhood_group_cleansed        3818 non-null object\n",
      "city                                3818 non-null object\n",
      "state                               3818 non-null object\n",
      "zipcode                             3811 non-null object\n",
      "market                              3818 non-null object\n",
      "smart_location                      3818 non-null object\n",
      "country_code                        3818 non-null object\n",
      "country                             3818 non-null object\n",
      "latitude                            3818 non-null float64\n",
      "longitude                           3818 non-null float64\n",
      "is_location_exact                   3818 non-null object\n",
      "property_type                       3817 non-null object\n",
      "room_type                           3818 non-null object\n",
      "accommodates                        3818 non-null int64\n",
      "bathrooms                           3802 non-null float64\n",
      "bedrooms                            3812 non-null float64\n",
      "beds                                3817 non-null float64\n",
      "bed_type                            3818 non-null object\n",
      "amenities                           3818 non-null object\n",
      "square_feet                         97 non-null float64\n",
      "price                               3818 non-null object\n",
      "weekly_price                        2009 non-null object\n",
      "monthly_price                       1517 non-null object\n",
      "security_deposit                    1866 non-null object\n",
      "cleaning_fee                        2788 non-null object\n",
      "guests_included                     3818 non-null int64\n",
      "extra_people                        3818 non-null object\n",
      "minimum_nights                      3818 non-null int64\n",
      "maximum_nights                      3818 non-null int64\n",
      "calendar_updated                    3818 non-null object\n",
      "has_availability                    3818 non-null object\n",
      "availability_30                     3818 non-null int64\n",
      "availability_60                     3818 non-null int64\n",
      "availability_90                     3818 non-null int64\n",
      "availability_365                    3818 non-null int64\n",
      "calendar_last_scraped               3818 non-null object\n",
      "number_of_reviews                   3818 non-null int64\n",
      "first_review                        3191 non-null object\n",
      "last_review                         3191 non-null object\n",
      "review_scores_rating                3171 non-null float64\n",
      "review_scores_accuracy              3160 non-null float64\n",
      "review_scores_cleanliness           3165 non-null float64\n",
      "review_scores_checkin               3160 non-null float64\n",
      "review_scores_communication         3167 non-null float64\n",
      "review_scores_location              3163 non-null float64\n",
      "review_scores_value                 3162 non-null float64\n",
      "requires_license                    3818 non-null object\n",
      "license                             0 non-null float64\n",
      "jurisdiction_names                  3818 non-null object\n",
      "instant_bookable                    3818 non-null object\n",
      "cancellation_policy                 3818 non-null object\n",
      "require_guest_profile_picture       3818 non-null object\n",
      "require_guest_phone_verification    3818 non-null object\n",
      "calculated_host_listings_count      3818 non-null int64\n",
      "reviews_per_month                   3191 non-null float64\n",
      "dtypes: float64(17), int64(13), object(62)\n",
      "memory usage: 2.7+ MB\n"
     ]
    }
   ],
   "source": [
    "listings_df.info()"
   ]
  },
  {
   "cell_type": "code",
   "execution_count": 8,
   "metadata": {},
   "outputs": [
    {
     "name": "stdout",
     "output_type": "stream",
     "text": [
      "<class 'pandas.core.frame.DataFrame'>\n",
      "RangeIndex: 84849 entries, 0 to 84848\n",
      "Data columns (total 6 columns):\n",
      "listing_id       84849 non-null int64\n",
      "id               84849 non-null int64\n",
      "date             84849 non-null object\n",
      "reviewer_id      84849 non-null int64\n",
      "reviewer_name    84849 non-null object\n",
      "comments         84831 non-null object\n",
      "dtypes: int64(3), object(3)\n",
      "memory usage: 3.9+ MB\n"
     ]
    }
   ],
   "source": [
    "review_df.info()"
   ]
  },
  {
   "cell_type": "code",
   "execution_count": 9,
   "metadata": {},
   "outputs": [
    {
     "data": {
      "text/plain": [
       "array([1, 0], dtype=int64)"
      ]
     },
     "execution_count": 9,
     "metadata": {},
     "output_type": "execute_result"
    }
   ],
   "source": [
    "from sklearn import preprocessing \n",
    "  \n",
    "# label_encoder object knows how to understand word labels. \n",
    "label_encoder = preprocessing.LabelEncoder() \n",
    "  \n",
    "# Encode labels in column 'species'. \n",
    "calender_df['available']= label_encoder.fit_transform(calender_df['available']) \n",
    "  \n",
    "calender_df['available'].unique() "
   ]
  },
  {
   "cell_type": "code",
   "execution_count": 10,
   "metadata": {},
   "outputs": [
    {
     "data": {
      "text/html": [
       "<div>\n",
       "<style scoped>\n",
       "    .dataframe tbody tr th:only-of-type {\n",
       "        vertical-align: middle;\n",
       "    }\n",
       "\n",
       "    .dataframe tbody tr th {\n",
       "        vertical-align: top;\n",
       "    }\n",
       "\n",
       "    .dataframe thead th {\n",
       "        text-align: right;\n",
       "    }\n",
       "</style>\n",
       "<table border=\"1\" class=\"dataframe\">\n",
       "  <thead>\n",
       "    <tr style=\"text-align: right;\">\n",
       "      <th></th>\n",
       "      <th>listing_id</th>\n",
       "      <th>date</th>\n",
       "      <th>available</th>\n",
       "      <th>price</th>\n",
       "    </tr>\n",
       "  </thead>\n",
       "  <tbody>\n",
       "    <tr>\n",
       "      <th>0</th>\n",
       "      <td>241032</td>\n",
       "      <td>2016-01-04</td>\n",
       "      <td>1</td>\n",
       "      <td>$85.00</td>\n",
       "    </tr>\n",
       "    <tr>\n",
       "      <th>1</th>\n",
       "      <td>241032</td>\n",
       "      <td>2016-01-05</td>\n",
       "      <td>1</td>\n",
       "      <td>$85.00</td>\n",
       "    </tr>\n",
       "    <tr>\n",
       "      <th>2</th>\n",
       "      <td>241032</td>\n",
       "      <td>2016-01-06</td>\n",
       "      <td>0</td>\n",
       "      <td>NaN</td>\n",
       "    </tr>\n",
       "    <tr>\n",
       "      <th>3</th>\n",
       "      <td>241032</td>\n",
       "      <td>2016-01-07</td>\n",
       "      <td>0</td>\n",
       "      <td>NaN</td>\n",
       "    </tr>\n",
       "    <tr>\n",
       "      <th>4</th>\n",
       "      <td>241032</td>\n",
       "      <td>2016-01-08</td>\n",
       "      <td>0</td>\n",
       "      <td>NaN</td>\n",
       "    </tr>\n",
       "  </tbody>\n",
       "</table>\n",
       "</div>"
      ],
      "text/plain": [
       "   listing_id        date  available   price\n",
       "0      241032  2016-01-04          1  $85.00\n",
       "1      241032  2016-01-05          1  $85.00\n",
       "2      241032  2016-01-06          0     NaN\n",
       "3      241032  2016-01-07          0     NaN\n",
       "4      241032  2016-01-08          0     NaN"
      ]
     },
     "execution_count": 10,
     "metadata": {},
     "output_type": "execute_result"
    }
   ],
   "source": [
    "calender_df.head()"
   ]
  },
  {
   "cell_type": "code",
   "execution_count": 11,
   "metadata": {},
   "outputs": [],
   "source": [
    "occupancy_df = calender_df[['date', 'available']].groupby('date').mean()\n",
    "occupancy_df['occupancy'] = 1 - occupancy_df['available']"
   ]
  },
  {
   "cell_type": "code",
   "execution_count": 12,
   "metadata": {},
   "outputs": [
    {
     "data": {
      "text/html": [
       "<div>\n",
       "<style scoped>\n",
       "    .dataframe tbody tr th:only-of-type {\n",
       "        vertical-align: middle;\n",
       "    }\n",
       "\n",
       "    .dataframe tbody tr th {\n",
       "        vertical-align: top;\n",
       "    }\n",
       "\n",
       "    .dataframe thead th {\n",
       "        text-align: right;\n",
       "    }\n",
       "</style>\n",
       "<table border=\"1\" class=\"dataframe\">\n",
       "  <thead>\n",
       "    <tr style=\"text-align: right;\">\n",
       "      <th></th>\n",
       "      <th>available</th>\n",
       "      <th>occupancy</th>\n",
       "    </tr>\n",
       "    <tr>\n",
       "      <th>date</th>\n",
       "      <th></th>\n",
       "      <th></th>\n",
       "    </tr>\n",
       "  </thead>\n",
       "  <tbody>\n",
       "    <tr>\n",
       "      <th>2016-01-04</th>\n",
       "      <td>0.454426</td>\n",
       "      <td>0.545574</td>\n",
       "    </tr>\n",
       "    <tr>\n",
       "      <th>2016-01-05</th>\n",
       "      <td>0.488999</td>\n",
       "      <td>0.511001</td>\n",
       "    </tr>\n",
       "    <tr>\n",
       "      <th>2016-01-06</th>\n",
       "      <td>0.478261</td>\n",
       "      <td>0.521739</td>\n",
       "    </tr>\n",
       "    <tr>\n",
       "      <th>2016-01-07</th>\n",
       "      <td>0.465165</td>\n",
       "      <td>0.534835</td>\n",
       "    </tr>\n",
       "    <tr>\n",
       "      <th>2016-01-08</th>\n",
       "      <td>0.466737</td>\n",
       "      <td>0.533263</td>\n",
       "    </tr>\n",
       "  </tbody>\n",
       "</table>\n",
       "</div>"
      ],
      "text/plain": [
       "            available  occupancy\n",
       "date                            \n",
       "2016-01-04   0.454426   0.545574\n",
       "2016-01-05   0.488999   0.511001\n",
       "2016-01-06   0.478261   0.521739\n",
       "2016-01-07   0.465165   0.534835\n",
       "2016-01-08   0.466737   0.533263"
      ]
     },
     "execution_count": 12,
     "metadata": {},
     "output_type": "execute_result"
    }
   ],
   "source": [
    "occupancy_df.head()"
   ]
  },
  {
   "cell_type": "code",
   "execution_count": 13,
   "metadata": {},
   "outputs": [
    {
     "name": "stderr",
     "output_type": "stream",
     "text": [
      "C:\\Users\\MSI\\Anaconda3\\lib\\site-packages\\pandas\\plotting\\_converter.py:129: FutureWarning: Using an implicitly registered datetime converter for a matplotlib plotting method. The converter was registered by pandas on import. Future versions of pandas will require you to explicitly register matplotlib converters.\n",
      "\n",
      "To register the converters:\n",
      "\t>>> from pandas.plotting import register_matplotlib_converters\n",
      "\t>>> register_matplotlib_converters()\n",
      "  warnings.warn(msg, FutureWarning)\n"
     ]
    },
    {
     "data": {
      "image/png": "[encoded data removed]",
      "text/plain": [
       "<Figure size 1440x576 with 1 Axes>"
      ]
     },
     "metadata": {
      "needs_background": "light"
     },
     "output_type": "display_data"
    }
   ],
   "source": [
    "from datetime import datetime\n",
    "import matplotlib.dates as mdates\n",
    "\n",
    "plt.figure(figsize=(20,8))\n",
    "    \n",
    "x = [datetime.strptime(date, '%Y-%m-%d') for date in occupancy_df.index]\n",
    "y = occupancy_df['occupancy']\n",
    "\n",
    "plt.gca().xaxis.set_major_formatter(mdates.DateFormatter('%Y-%m-%d'))\n",
    "plt.gca().xaxis.set_major_locator(mdates.MonthLocator())\n",
    "    \n",
    "plt.title('Occupancy')\n",
    "plt.plot(x, y, 'c-')\n",
    "plt.show()"
   ]
  },
  {
   "cell_type": "code",
   "execution_count": 14,
   "metadata": {},
   "outputs": [],
   "source": [
    "# convert 'price' into float\n",
    "calender_df['price'] = calender_df['price'].map(lambda price: float(price[1:].replace(',', '')), na_action='ignore')"
   ]
  },
  {
   "cell_type": "code",
   "execution_count": 15,
   "metadata": {},
   "outputs": [],
   "source": [
    "mean_price_df = calender_df[['date', 'price']].groupby('date').mean()"
   ]
  },
  {
   "cell_type": "code",
   "execution_count": 16,
   "metadata": {},
   "outputs": [
    {
     "data": {
      "text/html": [
       "<div>\n",
       "<style scoped>\n",
       "    .dataframe tbody tr th:only-of-type {\n",
       "        vertical-align: middle;\n",
       "    }\n",
       "\n",
       "    .dataframe tbody tr th {\n",
       "        vertical-align: top;\n",
       "    }\n",
       "\n",
       "    .dataframe thead th {\n",
       "        text-align: right;\n",
       "    }\n",
       "</style>\n",
       "<table border=\"1\" class=\"dataframe\">\n",
       "  <thead>\n",
       "    <tr style=\"text-align: right;\">\n",
       "      <th></th>\n",
       "      <th>price</th>\n",
       "    </tr>\n",
       "    <tr>\n",
       "      <th>date</th>\n",
       "      <th></th>\n",
       "    </tr>\n",
       "  </thead>\n",
       "  <tbody>\n",
       "    <tr>\n",
       "      <th>2016-01-04</th>\n",
       "      <td>122.085879</td>\n",
       "    </tr>\n",
       "    <tr>\n",
       "      <th>2016-01-05</th>\n",
       "      <td>120.681307</td>\n",
       "    </tr>\n",
       "    <tr>\n",
       "      <th>2016-01-06</th>\n",
       "      <td>120.928258</td>\n",
       "    </tr>\n",
       "    <tr>\n",
       "      <th>2016-01-07</th>\n",
       "      <td>120.958896</td>\n",
       "    </tr>\n",
       "    <tr>\n",
       "      <th>2016-01-08</th>\n",
       "      <td>127.640853</td>\n",
       "    </tr>\n",
       "  </tbody>\n",
       "</table>\n",
       "</div>"
      ],
      "text/plain": [
       "                 price\n",
       "date                  \n",
       "2016-01-04  122.085879\n",
       "2016-01-05  120.681307\n",
       "2016-01-06  120.928258\n",
       "2016-01-07  120.958896\n",
       "2016-01-08  127.640853"
      ]
     },
     "execution_count": 16,
     "metadata": {},
     "output_type": "execute_result"
    }
   ],
   "source": [
    "mean_price_df.head()"
   ]
  },
  {
   "cell_type": "code",
   "execution_count": 17,
   "metadata": {},
   "outputs": [
    {
     "data": {
      "image/png": "[encoded data removed]",
      "text/plain": [
       "<Figure size 1440x576 with 1 Axes>"
      ]
     },
     "metadata": {
      "needs_background": "light"
     },
     "output_type": "display_data"
    }
   ],
   "source": [
    "plt.figure(figsize=(20,8))\n",
    "    \n",
    "x = [datetime.strptime(date, '%Y-%m-%d') for date in mean_price_df.index]\n",
    "y = mean_price_df['price']\n",
    "\n",
    "plt.gca().xaxis.set_major_formatter(mdates.DateFormatter('%Y-%m-%d'))\n",
    "plt.gca().xaxis.set_major_locator(mdates.MonthLocator())\n",
    "    \n",
    "plt.title('Price')\n",
    "plt.plot(x, y, 'c-')\n",
    "plt.show()"
   ]
  },
  {
   "cell_type": "code",
   "execution_count": 18,
   "metadata": {},
   "outputs": [],
   "source": [
    "occupancy = calender_df[['listing_id', 'available']].groupby('listing_id').mean()\n",
    "occupancy['occupancy'] = 1 - occupancy['available']\n",
    "occupancy.drop(['available'], axis = 1, inplace=True)\n",
    "occupancy['id'] = occupancy.index"
   ]
  },
  {
   "cell_type": "code",
   "execution_count": 19,
   "metadata": {},
   "outputs": [
    {
     "data": {
      "text/html": [
       "<div>\n",
       "<style scoped>\n",
       "    .dataframe tbody tr th:only-of-type {\n",
       "        vertical-align: middle;\n",
       "    }\n",
       "\n",
       "    .dataframe tbody tr th {\n",
       "        vertical-align: top;\n",
       "    }\n",
       "\n",
       "    .dataframe thead th {\n",
       "        text-align: right;\n",
       "    }\n",
       "</style>\n",
       "<table border=\"1\" class=\"dataframe\">\n",
       "  <thead>\n",
       "    <tr style=\"text-align: right;\">\n",
       "      <th></th>\n",
       "      <th>occupancy</th>\n",
       "      <th>id</th>\n",
       "    </tr>\n",
       "    <tr>\n",
       "      <th>listing_id</th>\n",
       "      <th></th>\n",
       "      <th></th>\n",
       "    </tr>\n",
       "  </thead>\n",
       "  <tbody>\n",
       "    <tr>\n",
       "      <th>3335</th>\n",
       "      <td>0.153425</td>\n",
       "      <td>3335</td>\n",
       "    </tr>\n",
       "    <tr>\n",
       "      <th>4291</th>\n",
       "      <td>0.000000</td>\n",
       "      <td>4291</td>\n",
       "    </tr>\n",
       "    <tr>\n",
       "      <th>5682</th>\n",
       "      <td>0.153425</td>\n",
       "      <td>5682</td>\n",
       "    </tr>\n",
       "    <tr>\n",
       "      <th>6606</th>\n",
       "      <td>0.000000</td>\n",
       "      <td>6606</td>\n",
       "    </tr>\n",
       "    <tr>\n",
       "      <th>7369</th>\n",
       "      <td>0.854795</td>\n",
       "      <td>7369</td>\n",
       "    </tr>\n",
       "  </tbody>\n",
       "</table>\n",
       "</div>"
      ],
      "text/plain": [
       "            occupancy    id\n",
       "listing_id                 \n",
       "3335         0.153425  3335\n",
       "4291         0.000000  4291\n",
       "5682         0.153425  5682\n",
       "6606         0.000000  6606\n",
       "7369         0.854795  7369"
      ]
     },
     "execution_count": 19,
     "metadata": {},
     "output_type": "execute_result"
    }
   ],
   "source": [
    "occupancy.head()"
   ]
  },
  {
   "cell_type": "code",
   "execution_count": 20,
   "metadata": {},
   "outputs": [],
   "source": [
    "df = pd.merge(occupancy, listings_df, how='inner', left_on='id', right_on='id')"
   ]
  },
  {
   "cell_type": "code",
   "execution_count": 21,
   "metadata": {},
   "outputs": [
    {
     "data": {
      "text/html": [
       "<div>\n",
       "<style scoped>\n",
       "    .dataframe tbody tr th:only-of-type {\n",
       "        vertical-align: middle;\n",
       "    }\n",
       "\n",
       "    .dataframe tbody tr th {\n",
       "        vertical-align: top;\n",
       "    }\n",
       "\n",
       "    .dataframe thead th {\n",
       "        text-align: right;\n",
       "    }\n",
       "</style>\n",
       "<table border=\"1\" class=\"dataframe\">\n",
       "  <thead>\n",
       "    <tr style=\"text-align: right;\">\n",
       "      <th></th>\n",
       "      <th>occupancy</th>\n",
       "      <th>id</th>\n",
       "      <th>listing_url</th>\n",
       "      <th>scrape_id</th>\n",
       "      <th>last_scraped</th>\n",
       "      <th>name</th>\n",
       "      <th>summary</th>\n",
       "      <th>space</th>\n",
       "      <th>description</th>\n",
       "      <th>experiences_offered</th>\n",
       "      <th>...</th>\n",
       "      <th>review_scores_value</th>\n",
       "      <th>requires_license</th>\n",
       "      <th>license</th>\n",
       "      <th>jurisdiction_names</th>\n",
       "      <th>instant_bookable</th>\n",
       "      <th>cancellation_policy</th>\n",
       "      <th>require_guest_profile_picture</th>\n",
       "      <th>require_guest_phone_verification</th>\n",
       "      <th>calculated_host_listings_count</th>\n",
       "      <th>reviews_per_month</th>\n",
       "    </tr>\n",
       "  </thead>\n",
       "  <tbody>\n",
       "    <tr>\n",
       "      <th>0</th>\n",
       "      <td>0.153425</td>\n",
       "      <td>3335</td>\n",
       "      <td>https://www.airbnb.com/rooms/3335</td>\n",
       "      <td>20160104002432</td>\n",
       "      <td>2016-01-04</td>\n",
       "      <td>Sweet Seattle Urban Homestead 2 Bdr</td>\n",
       "      <td>Welcome! If you stay here you will be living i...</td>\n",
       "      <td>Welcome!  Come enjoy your time in Seattle at a...</td>\n",
       "      <td>Welcome! If you stay here you will be living i...</td>\n",
       "      <td>none</td>\n",
       "      <td>...</td>\n",
       "      <td>NaN</td>\n",
       "      <td>f</td>\n",
       "      <td>NaN</td>\n",
       "      <td>WASHINGTON</td>\n",
       "      <td>f</td>\n",
       "      <td>strict</td>\n",
       "      <td>f</td>\n",
       "      <td>f</td>\n",
       "      <td>4</td>\n",
       "      <td>NaN</td>\n",
       "    </tr>\n",
       "    <tr>\n",
       "      <th>1</th>\n",
       "      <td>0.000000</td>\n",
       "      <td>4291</td>\n",
       "      <td>https://www.airbnb.com/rooms/4291</td>\n",
       "      <td>20160104002432</td>\n",
       "      <td>2016-01-04</td>\n",
       "      <td>Sunrise in Seattle Master Suite</td>\n",
       "      <td>NaN</td>\n",
       "      <td>Located in Seattle, this is a spacious, clean...</td>\n",
       "      <td>Located in Seattle, this is a spacious, clean...</td>\n",
       "      <td>none</td>\n",
       "      <td>...</td>\n",
       "      <td>9.0</td>\n",
       "      <td>f</td>\n",
       "      <td>NaN</td>\n",
       "      <td>WASHINGTON</td>\n",
       "      <td>f</td>\n",
       "      <td>moderate</td>\n",
       "      <td>f</td>\n",
       "      <td>f</td>\n",
       "      <td>5</td>\n",
       "      <td>1.14</td>\n",
       "    </tr>\n",
       "    <tr>\n",
       "      <th>2</th>\n",
       "      <td>0.153425</td>\n",
       "      <td>5682</td>\n",
       "      <td>https://www.airbnb.com/rooms/5682</td>\n",
       "      <td>20160104002432</td>\n",
       "      <td>2016-01-04</td>\n",
       "      <td>Cozy Studio, min. to downtown -WiFi</td>\n",
       "      <td>The Cozy Studio is a perfect launchpad for you...</td>\n",
       "      <td>Hello fellow travelers, Save some money and ha...</td>\n",
       "      <td>The Cozy Studio is a perfect launchpad for you...</td>\n",
       "      <td>none</td>\n",
       "      <td>...</td>\n",
       "      <td>10.0</td>\n",
       "      <td>f</td>\n",
       "      <td>NaN</td>\n",
       "      <td>WASHINGTON</td>\n",
       "      <td>t</td>\n",
       "      <td>strict</td>\n",
       "      <td>f</td>\n",
       "      <td>t</td>\n",
       "      <td>1</td>\n",
       "      <td>4.21</td>\n",
       "    </tr>\n",
       "    <tr>\n",
       "      <th>3</th>\n",
       "      <td>0.000000</td>\n",
       "      <td>6606</td>\n",
       "      <td>https://www.airbnb.com/rooms/6606</td>\n",
       "      <td>20160104002432</td>\n",
       "      <td>2016-01-04</td>\n",
       "      <td>Fab, private seattle urban cottage!</td>\n",
       "      <td>NaN</td>\n",
       "      <td>Soo centrally located, this is a little house ...</td>\n",
       "      <td>Soo centrally located, this is a little house ...</td>\n",
       "      <td>none</td>\n",
       "      <td>...</td>\n",
       "      <td>9.0</td>\n",
       "      <td>f</td>\n",
       "      <td>NaN</td>\n",
       "      <td>WASHINGTON</td>\n",
       "      <td>f</td>\n",
       "      <td>strict</td>\n",
       "      <td>f</td>\n",
       "      <td>f</td>\n",
       "      <td>1</td>\n",
       "      <td>0.66</td>\n",
       "    </tr>\n",
       "    <tr>\n",
       "      <th>4</th>\n",
       "      <td>0.854795</td>\n",
       "      <td>7369</td>\n",
       "      <td>https://www.airbnb.com/rooms/7369</td>\n",
       "      <td>20160104002432</td>\n",
       "      <td>2016-01-04</td>\n",
       "      <td>launchingpad/landingpad</td>\n",
       "      <td>contemporary condo on the western edge of pike...</td>\n",
       "      <td>spacious condo with all the amenities</td>\n",
       "      <td>contemporary condo on the western edge of pike...</td>\n",
       "      <td>none</td>\n",
       "      <td>...</td>\n",
       "      <td>9.0</td>\n",
       "      <td>f</td>\n",
       "      <td>NaN</td>\n",
       "      <td>WASHINGTON</td>\n",
       "      <td>f</td>\n",
       "      <td>flexible</td>\n",
       "      <td>f</td>\n",
       "      <td>f</td>\n",
       "      <td>1</td>\n",
       "      <td>0.50</td>\n",
       "    </tr>\n",
       "  </tbody>\n",
       "</table>\n",
       "<p>5 rows × 93 columns</p>\n",
       "</div>"
      ],
      "text/plain": [
       "   occupancy    id                        listing_url       scrape_id  \\\n",
       "0   0.153425  3335  https://www.airbnb.com/rooms/3335  20160104002432   \n",
       "1   0.000000  4291  https://www.airbnb.com/rooms/4291  20160104002432   \n",
       "2   0.153425  5682  https://www.airbnb.com/rooms/5682  20160104002432   \n",
       "3   0.000000  6606  https://www.airbnb.com/rooms/6606  20160104002432   \n",
       "4   0.854795  7369  https://www.airbnb.com/rooms/7369  20160104002432   \n",
       "\n",
       "  last_scraped                                 name  \\\n",
       "0   2016-01-04  Sweet Seattle Urban Homestead 2 Bdr   \n",
       "1   2016-01-04      Sunrise in Seattle Master Suite   \n",
       "2   2016-01-04  Cozy Studio, min. to downtown -WiFi   \n",
       "3   2016-01-04  Fab, private seattle urban cottage!   \n",
       "4   2016-01-04             launchingpad/landingpad    \n",
       "\n",
       "                                             summary  \\\n",
       "0  Welcome! If you stay here you will be living i...   \n",
       "1                                                NaN   \n",
       "2  The Cozy Studio is a perfect launchpad for you...   \n",
       "3                                                NaN   \n",
       "4  contemporary condo on the western edge of pike...   \n",
       "\n",
       "                                               space  \\\n",
       "0  Welcome!  Come enjoy your time in Seattle at a...   \n",
       "1   Located in Seattle, this is a spacious, clean...   \n",
       "2  Hello fellow travelers, Save some money and ha...   \n",
       "3  Soo centrally located, this is a little house ...   \n",
       "4              spacious condo with all the amenities   \n",
       "\n",
       "                                         description experiences_offered  ...  \\\n",
       "0  Welcome! If you stay here you will be living i...                none  ...   \n",
       "1   Located in Seattle, this is a spacious, clean...                none  ...   \n",
       "2  The Cozy Studio is a perfect launchpad for you...                none  ...   \n",
       "3  Soo centrally located, this is a little house ...                none  ...   \n",
       "4  contemporary condo on the western edge of pike...                none  ...   \n",
       "\n",
       "  review_scores_value requires_license license jurisdiction_names  \\\n",
       "0                 NaN                f     NaN         WASHINGTON   \n",
       "1                 9.0                f     NaN         WASHINGTON   \n",
       "2                10.0                f     NaN         WASHINGTON   \n",
       "3                 9.0                f     NaN         WASHINGTON   \n",
       "4                 9.0                f     NaN         WASHINGTON   \n",
       "\n",
       "  instant_bookable cancellation_policy require_guest_profile_picture  \\\n",
       "0                f              strict                             f   \n",
       "1                f            moderate                             f   \n",
       "2                t              strict                             f   \n",
       "3                f              strict                             f   \n",
       "4                f            flexible                             f   \n",
       "\n",
       "   require_guest_phone_verification calculated_host_listings_count  \\\n",
       "0                                 f                              4   \n",
       "1                                 f                              5   \n",
       "2                                 t                              1   \n",
       "3                                 f                              1   \n",
       "4                                 f                              1   \n",
       "\n",
       "  reviews_per_month  \n",
       "0               NaN  \n",
       "1              1.14  \n",
       "2              4.21  \n",
       "3              0.66  \n",
       "4              0.50  \n",
       "\n",
       "[5 rows x 93 columns]"
      ]
     },
     "execution_count": 21,
     "metadata": {},
     "output_type": "execute_result"
    }
   ],
   "source": [
    "df.head()"
   ]
  },
  {
   "cell_type": "code",
   "execution_count": 22,
   "metadata": {},
   "outputs": [
    {
     "data": {
      "text/plain": [
       "(3818, 93)"
      ]
     },
     "execution_count": 22,
     "metadata": {},
     "output_type": "execute_result"
    }
   ],
   "source": [
    "df.shape"
   ]
  },
  {
   "cell_type": "code",
   "execution_count": 23,
   "metadata": {},
   "outputs": [
    {
     "name": "stdout",
     "output_type": "stream",
     "text": [
      "<class 'pandas.core.frame.DataFrame'>\n",
      "Int64Index: 3818 entries, 0 to 3817\n",
      "Data columns (total 93 columns):\n",
      "occupancy                           3818 non-null float64\n",
      "id                                  3818 non-null int64\n",
      "listing_url                         3818 non-null object\n",
      "scrape_id                           3818 non-null int64\n",
      "last_scraped                        3818 non-null object\n",
      "name                                3818 non-null object\n",
      "summary                             3641 non-null object\n",
      "space                               3249 non-null object\n",
      "description                         3818 non-null object\n",
      "experiences_offered                 3818 non-null object\n",
      "neighborhood_overview               2786 non-null object\n",
      "notes                               2212 non-null object\n",
      "transit                             2884 non-null object\n",
      "thumbnail_url                       3498 non-null object\n",
      "medium_url                          3498 non-null object\n",
      "picture_url                         3818 non-null object\n",
      "xl_picture_url                      3498 non-null object\n",
      "host_id                             3818 non-null int64\n",
      "host_url                            3818 non-null object\n",
      "host_name                           3816 non-null object\n",
      "host_since                          3816 non-null object\n",
      "host_location                       3810 non-null object\n",
      "host_about                          2959 non-null object\n",
      "host_response_time                  3295 non-null object\n",
      "host_response_rate                  3295 non-null object\n",
      "host_acceptance_rate                3045 non-null object\n",
      "host_is_superhost                   3816 non-null object\n",
      "host_thumbnail_url                  3816 non-null object\n",
      "host_picture_url                    3816 non-null object\n",
      "host_neighbourhood                  3518 non-null object\n",
      "host_listings_count                 3816 non-null float64\n",
      "host_total_listings_count           3816 non-null float64\n",
      "host_verifications                  3818 non-null object\n",
      "host_has_profile_pic                3816 non-null object\n",
      "host_identity_verified              3816 non-null object\n",
      "street                              3818 non-null object\n",
      "neighbourhood                       3402 non-null object\n",
      "neighbourhood_cleansed              3818 non-null object\n",
      "neighbourhood_group_cleansed        3818 non-null object\n",
      "city                                3818 non-null object\n",
      "state                               3818 non-null object\n",
      "zipcode                             3811 non-null object\n",
      "market                              3818 non-null object\n",
      "smart_location                      3818 non-null object\n",
      "country_code                        3818 non-null object\n",
      "country                             3818 non-null object\n",
      "latitude                            3818 non-null float64\n",
      "longitude                           3818 non-null float64\n",
      "is_location_exact                   3818 non-null object\n",
      "property_type                       3817 non-null object\n",
      "room_type                           3818 non-null object\n",
      "accommodates                        3818 non-null int64\n",
      "bathrooms                           3802 non-null float64\n",
      "bedrooms                            3812 non-null float64\n",
      "beds                                3817 non-null float64\n",
      "bed_type                            3818 non-null object\n",
      "amenities                           3818 non-null object\n",
      "square_feet                         97 non-null float64\n",
      "price                               3818 non-null object\n",
      "weekly_price                        2009 non-null object\n",
      "monthly_price                       1517 non-null object\n",
      "security_deposit                    1866 non-null object\n",
      "cleaning_fee                        2788 non-null object\n",
      "guests_included                     3818 non-null int64\n",
      "extra_people                        3818 non-null object\n",
      "minimum_nights                      3818 non-null int64\n",
      "maximum_nights                      3818 non-null int64\n",
      "calendar_updated                    3818 non-null object\n",
      "has_availability                    3818 non-null object\n",
      "availability_30                     3818 non-null int64\n",
      "availability_60                     3818 non-null int64\n",
      "availability_90                     3818 non-null int64\n",
      "availability_365                    3818 non-null int64\n",
      "calendar_last_scraped               3818 non-null object\n",
      "number_of_reviews                   3818 non-null int64\n",
      "first_review                        3191 non-null object\n",
      "last_review                         3191 non-null object\n",
      "review_scores_rating                3171 non-null float64\n",
      "review_scores_accuracy              3160 non-null float64\n",
      "review_scores_cleanliness           3165 non-null float64\n",
      "review_scores_checkin               3160 non-null float64\n",
      "review_scores_communication         3167 non-null float64\n",
      "review_scores_location              3163 non-null float64\n",
      "review_scores_value                 3162 non-null float64\n",
      "requires_license                    3818 non-null object\n",
      "license                             0 non-null float64\n",
      "jurisdiction_names                  3818 non-null object\n",
      "instant_bookable                    3818 non-null object\n",
      "cancellation_policy                 3818 non-null object\n",
      "require_guest_profile_picture       3818 non-null object\n",
      "require_guest_phone_verification    3818 non-null object\n",
      "calculated_host_listings_count      3818 non-null int64\n",
      "reviews_per_month                   3191 non-null float64\n",
      "dtypes: float64(18), int64(13), object(62)\n",
      "memory usage: 2.7+ MB\n"
     ]
    }
   ],
   "source": [
    "df.info()"
   ]
  },
  {
   "cell_type": "code",
   "execution_count": 24,
   "metadata": {},
   "outputs": [
    {
     "data": {
      "text/plain": [
       "<matplotlib.axes._subplots.AxesSubplot at 0x1bfcec1c7f0>"
      ]
     },
     "execution_count": 24,
     "metadata": {},
     "output_type": "execute_result"
    },
    {
     "data": {
      "image/png": "[encoded data removed]",
      "text/plain": [
       "<Figure size 432x288 with 1 Axes>"
      ]
     },
     "metadata": {
      "needs_background": "light"
     },
     "output_type": "display_data"
    }
   ],
   "source": [
    "import seaborn as sns\n",
    "x = df.cancellation_policy\n",
    "y = df.occupancy\n",
    "sns.barplot(x,y)"
   ]
  },
  {
   "cell_type": "code",
   "execution_count": 25,
   "metadata": {},
   "outputs": [
    {
     "data": {
      "text/plain": [
       "<matplotlib.axes._subplots.AxesSubplot at 0x1bfceefda58>"
      ]
     },
     "execution_count": 25,
     "metadata": {},
     "output_type": "execute_result"
    },
    {
     "data": {
      "image/png": "[encoded data removed]",
      "text/plain": [
       "<Figure size 1440x576 with 1 Axes>"
      ]
     },
     "metadata": {
      "needs_background": "light"
     },
     "output_type": "display_data"
    }
   ],
   "source": [
    "plt.figure(figsize=(20,8))\n",
    "x = df.neighbourhood  \n",
    "y = df.occupancy\n",
    "plt.xticks(rotation=90)\n",
    "sns.barplot(x,y)"
   ]
  },
  {
   "cell_type": "code",
   "execution_count": 26,
   "metadata": {},
   "outputs": [],
   "source": [
    "df['price'] = df['price'].map(lambda price: float(price[1:].replace(',', '')), na_action='ignore')"
   ]
  },
  {
   "cell_type": "code",
   "execution_count": 27,
   "metadata": {},
   "outputs": [
    {
     "data": {
      "text/plain": [
       "<matplotlib.axes._subplots.AxesSubplot at 0x1bfcec24080>"
      ]
     },
     "execution_count": 27,
     "metadata": {},
     "output_type": "execute_result"
    },
    {
     "data": {
      "image/png": "[encoded data removed]",
      "text/plain": [
       "<Figure size 1440x576 with 1 Axes>"
      ]
     },
     "metadata": {
      "needs_background": "light"
     },
     "output_type": "display_data"
    }
   ],
   "source": [
    "plt.figure(figsize=(20,8))\n",
    "x = df.host_response_time \n",
    "y = df.occupancy\n",
    "plt.xticks(rotation=90)\n",
    "sns.barplot(x,y)"
   ]
  },
  {
   "cell_type": "code",
   "execution_count": 28,
   "metadata": {},
   "outputs": [
    {
     "data": {
      "text/plain": [
       "<matplotlib.axes._subplots.AxesSubplot at 0x1bfcec1c7b8>"
      ]
     },
     "execution_count": 28,
     "metadata": {},
     "output_type": "execute_result"
    },
    {
     "data": {
      "image/png": "[encoded data removed]",
      "text/plain": [
       "<Figure size 1440x576 with 1 Axes>"
      ]
     },
     "metadata": {
      "needs_background": "light"
     },
     "output_type": "display_data"
    }
   ],
   "source": [
    "plt.figure(figsize=(20,8))\n",
    "x = df.property_type\n",
    "y = df.occupancy\n",
    "plt.xticks(rotation=90)\n",
    "sns.barplot(x,y)"
   ]
  },
  {
   "cell_type": "code",
   "execution_count": 29,
   "metadata": {},
   "outputs": [
    {
     "data": {
      "text/plain": [
       "<matplotlib.axes._subplots.AxesSubplot at 0x1bfd7272470>"
      ]
     },
     "execution_count": 29,
     "metadata": {},
     "output_type": "execute_result"
    },
    {
     "data": {
      "image/png": "[encoded data removed]",
      "text/plain": [
       "<Figure size 1440x576 with 1 Axes>"
      ]
     },
     "metadata": {
      "needs_background": "light"
     },
     "output_type": "display_data"
    }
   ],
   "source": [
    "plt.figure(figsize=(20,8))\n",
    "x = df.neighbourhood_group_cleansed\n",
    "y = df.occupancy\n",
    "plt.xticks(rotation=90)\n",
    "sns.barplot(x,y)"
   ]
  },
  {
   "cell_type": "code",
   "execution_count": 30,
   "metadata": {},
   "outputs": [],
   "source": [
    "def drop(data, feat):\n",
    "    \"\"\"\n",
    "    drop feature from data\n",
    "    \"\"\"\n",
    "    new_data = data.drop(feat, axis=1)\n",
    "    print('Dropping {}...'.format(feat))\n",
    "    return new_data"
   ]
  },
  {
   "cell_type": "code",
   "execution_count": 31,
   "metadata": {},
   "outputs": [
    {
     "name": "stdout",
     "output_type": "stream",
     "text": [
      "Dropping id...\n",
      "Dropping scrape_id...\n",
      "Dropping host_id...\n",
      "Dropping host_verifications...\n",
      "Dropping listing_url...\n",
      "Dropping name...\n",
      "Dropping thumbnail_url...\n",
      "Dropping medium_url...\n",
      "Dropping picture_url...\n",
      "Dropping xl_picture_url...\n",
      "Dropping host_url...\n",
      "Dropping host_name...\n",
      "Dropping host_thumbnail_url...\n",
      "Dropping host_picture_url...\n",
      "Dropping jurisdiction_names...\n"
     ]
    }
   ],
   "source": [
    "# drop id\n",
    "data_clean = drop(listings_df, 'id')\n",
    "data_clean = drop(data_clean, 'scrape_id')\n",
    "data_clean = drop(data_clean, 'host_id')\n",
    "data_clean = drop(data_clean, 'host_verifications') \n",
    "\n",
    "for feat in df.columns:\n",
    "    # drop url\n",
    "    if 'url' in feat:\n",
    "        data_clean = drop(data_clean, feat)\n",
    "    # drop name\n",
    "    if 'name' in feat:\n",
    "        data_clean = drop(data_clean, feat)"
   ]
  },
  {
   "cell_type": "code",
   "execution_count": 32,
   "metadata": {},
   "outputs": [
    {
     "name": "stdout",
     "output_type": "stream",
     "text": [
      "Dropping summary...\n",
      "Dropping space...\n",
      "Dropping description...\n",
      "Dropping neighborhood_overview...\n",
      "Dropping notes...\n",
      "Dropping transit...\n",
      "Dropping host_about...\n"
     ]
    }
   ],
   "source": [
    "# drop texts\n",
    "data_clean = drop(data_clean, 'summary')\n",
    "data_clean = drop(data_clean, 'space')\n",
    "data_clean = drop(data_clean, 'description')\n",
    "data_clean = drop(data_clean, 'neighborhood_overview')\n",
    "data_clean = drop(data_clean, 'notes')\n",
    "data_clean = drop(data_clean, 'transit')\n",
    "data_clean = drop(data_clean, 'host_about')"
   ]
  },
  {
   "cell_type": "code",
   "execution_count": 33,
   "metadata": {},
   "outputs": [
    {
     "name": "stdout",
     "output_type": "stream",
     "text": [
      "Dropping last_scraped...\n",
      "Dropping experiences_offered...\n",
      "Dropping market...\n",
      "Dropping country_code...\n",
      "Dropping country...\n",
      "Dropping has_availability...\n",
      "Dropping calendar_last_scraped...\n",
      "Dropping requires_license...\n",
      "Dropping license...\n"
     ]
    }
   ],
   "source": [
    "# drop identical features\n",
    "for feat in data_clean.columns:\n",
    "    if len(data_clean[feat].value_counts()) <= 1:\n",
    "        data_clean = drop(data_clean, feat)"
   ]
  },
  {
   "cell_type": "code",
   "execution_count": 34,
   "metadata": {},
   "outputs": [
    {
     "data": {
      "text/plain": [
       "Seattle                  3810\n",
       "West Seattle                2\n",
       "Seattle                     2\n",
       "seattle                     1\n",
       "Ballard, Seattle            1\n",
       "西雅图                         1\n",
       "Phinney Ridge Seattle       1\n",
       "Name: city, dtype: int64"
      ]
     },
     "execution_count": 34,
     "metadata": {},
     "output_type": "execute_result"
    }
   ],
   "source": [
    "data_clean['city'].value_counts()"
   ]
  },
  {
   "cell_type": "code",
   "execution_count": 35,
   "metadata": {},
   "outputs": [
    {
     "data": {
      "text/plain": [
       "WA    3817\n",
       "wa       1\n",
       "Name: state, dtype: int64"
      ]
     },
     "execution_count": 35,
     "metadata": {},
     "output_type": "execute_result"
    }
   ],
   "source": [
    "data_clean['state'].value_counts()"
   ]
  },
  {
   "cell_type": "code",
   "execution_count": 36,
   "metadata": {},
   "outputs": [
    {
     "data": {
      "text/plain": [
       "Seattle, WA                  3810\n",
       "West Seattle, WA                2\n",
       "Seattle , WA                    2\n",
       "Ballard, Seattle, WA            1\n",
       "西雅图, WA                         1\n",
       "seattle, wa                     1\n",
       "Phinney Ridge Seattle, WA       1\n",
       "Name: smart_location, dtype: int64"
      ]
     },
     "execution_count": 36,
     "metadata": {},
     "output_type": "execute_result"
    }
   ],
   "source": [
    "data_clean['smart_location'].value_counts()"
   ]
  },
  {
   "cell_type": "code",
   "execution_count": 37,
   "metadata": {},
   "outputs": [
    {
     "name": "stdout",
     "output_type": "stream",
     "text": [
      "Dropping city...\n",
      "Dropping state...\n",
      "Dropping smart_location...\n"
     ]
    }
   ],
   "source": [
    "# drop identical features\n",
    "data_clean = drop(data_clean, 'city')\n",
    "data_clean = drop(data_clean, 'state')\n",
    "data_clean = drop(data_clean, 'smart_location')"
   ]
  },
  {
   "cell_type": "code",
   "execution_count": 38,
   "metadata": {},
   "outputs": [
    {
     "name": "stdout",
     "output_type": "stream",
     "text": [
      "Dropping street...\n",
      "Dropping neighbourhood...\n",
      "Dropping neighbourhood_cleansed...\n",
      "Dropping zipcode...\n",
      "Dropping latitude...\n",
      "Dropping longitude...\n"
     ]
    }
   ],
   "source": [
    "# only need 'neighbourhood_group_cleansed' as feature of home location\n",
    "data_clean = drop(data_clean, 'street')\n",
    "data_clean = drop(data_clean, 'neighbourhood')\n",
    "data_clean = drop(data_clean, 'neighbourhood_cleansed')\n",
    "data_clean = drop(data_clean, 'zipcode')\n",
    "data_clean = drop(data_clean, 'latitude')\n",
    "data_clean = drop(data_clean, 'longitude')"
   ]
  },
  {
   "cell_type": "code",
   "execution_count": 39,
   "metadata": {},
   "outputs": [
    {
     "name": "stdout",
     "output_type": "stream",
     "text": [
      "Dropping weekly_price...\n",
      "Dropping monthly_price...\n",
      "Dropping security_deposit...\n",
      "Dropping cleaning_fee...\n",
      "Dropping extra_people...\n"
     ]
    }
   ],
   "source": [
    "# for price, only keep price as label\n",
    "data_clean = drop(data_clean, 'weekly_price')\n",
    "data_clean = drop(data_clean, 'monthly_price')\n",
    "data_clean = drop(data_clean, 'security_deposit')\n",
    "data_clean = drop(data_clean, 'cleaning_fee')\n",
    "data_clean = drop(data_clean, 'extra_people')"
   ]
  },
  {
   "cell_type": "code",
   "execution_count": 40,
   "metadata": {},
   "outputs": [
    {
     "name": "stdout",
     "output_type": "stream",
     "text": [
      "Dropping number_of_reviews...\n",
      "Dropping first_review...\n",
      "Dropping last_review...\n",
      "Dropping review_scores_rating...\n",
      "Dropping review_scores_accuracy...\n",
      "Dropping review_scores_cleanliness...\n",
      "Dropping review_scores_checkin...\n",
      "Dropping review_scores_communication...\n",
      "Dropping review_scores_location...\n",
      "Dropping review_scores_value...\n",
      "Dropping reviews_per_month...\n"
     ]
    }
   ],
   "source": [
    "# drop all reviews\n",
    "for feat in data_clean.columns:\n",
    "    # drop url\n",
    "    if 'review' in feat:\n",
    "        data_clean = drop(data_clean, feat)"
   ]
  },
  {
   "cell_type": "code",
   "execution_count": 41,
   "metadata": {},
   "outputs": [
    {
     "name": "stdout",
     "output_type": "stream",
     "text": [
      "Dropping host_listings_count...\n",
      "Dropping host_total_listings_count...\n"
     ]
    }
   ],
   "source": [
    "# for listing count, only keep the calculated one\n",
    "data_clean = drop(data_clean, 'host_listings_count')\n",
    "data_clean = drop(data_clean, 'host_total_listings_count')"
   ]
  },
  {
   "cell_type": "code",
   "execution_count": 42,
   "metadata": {},
   "outputs": [
    {
     "name": "stdout",
     "output_type": "stream",
     "text": [
      "Dropping availability_30...\n",
      "Dropping availability_60...\n",
      "Dropping availability_90...\n"
     ]
    }
   ],
   "source": [
    "# keep only anual avaliability\n",
    "data_clean = drop(data_clean, 'availability_30')\n",
    "data_clean = drop(data_clean, 'availability_60')\n",
    "data_clean = drop(data_clean, 'availability_90')"
   ]
  },
  {
   "cell_type": "code",
   "execution_count": 43,
   "metadata": {},
   "outputs": [],
   "source": [
    "# investigate missing data in columns\n",
    "NaN_rate_col = data_clean.isnull().sum().sort_values(ascending=False) / len(data_clean)"
   ]
  },
  {
   "cell_type": "code",
   "execution_count": 44,
   "metadata": {},
   "outputs": [
    {
     "data": {
      "text/plain": [
       "0"
      ]
     },
     "execution_count": 44,
     "metadata": {},
     "output_type": "execute_result"
    }
   ],
   "source": [
    "# no missing label here\n",
    "data_clean['price'].isnull().sum()"
   ]
  },
  {
   "cell_type": "code",
   "execution_count": 45,
   "metadata": {},
   "outputs": [
    {
     "name": "stdout",
     "output_type": "stream",
     "text": [
      "Dropping square_feet...\n"
     ]
    }
   ],
   "source": [
    "# drop the feature whose missing portion are greater than 50%\n",
    "for feat in NaN_rate_col.index:\n",
    "    if NaN_rate_col[feat] > 0.5:\n",
    "        data_clean = drop(data_clean, feat)"
   ]
  },
  {
   "cell_type": "code",
   "execution_count": 46,
   "metadata": {},
   "outputs": [
    {
     "name": "stdout",
     "output_type": "stream",
     "text": [
      "73.36% rows have no missing data.\n",
      "85.12% rows have less than 1 missing data.\n",
      "86.64% rows have less than 2 missing data.\n",
      "98.59% rows have less than 3 missing data.\n",
      "99.95% rows have less than 4 missing data.\n",
      "99.95% rows have less than 5 missing data.\n",
      "99.95% rows have less than 6 missing data.\n",
      "99.95% rows have less than 7 missing data.\n",
      "99.95% rows have less than 8 missing data.\n",
      "100.00% rows have less than 9 missing data.\n",
      "100.00% rows have less than 10 missing data.\n"
     ]
    }
   ],
   "source": [
    "# investigate missing data in rows\n",
    "data_clean['Missing_num'] = data_clean.isnull().sum(axis=1)\n",
    "print('{:.2f}% rows have no missing data.'.format(len(data_clean[data_clean['Missing_num']==0]) / len(data_clean) * 100))\n",
    "print('{:.2f}% rows have less than 1 missing data.'.format(len(data_clean[data_clean['Missing_num']<=1]) / len(data_clean) * 100))\n",
    "print('{:.2f}% rows have less than 2 missing data.'.format(len(data_clean[data_clean['Missing_num']<=2]) / len(data_clean) * 100))\n",
    "print('{:.2f}% rows have less than 3 missing data.'.format(len(data_clean[data_clean['Missing_num']<=3]) / len(data_clean) * 100))\n",
    "print('{:.2f}% rows have less than 4 missing data.'.format(len(data_clean[data_clean['Missing_num']<=4]) / len(data_clean) * 100))\n",
    "print('{:.2f}% rows have less than 5 missing data.'.format(len(data_clean[data_clean['Missing_num']<=5]) / len(data_clean) * 100))\n",
    "print('{:.2f}% rows have less than 6 missing data.'.format(len(data_clean[data_clean['Missing_num']<=6]) / len(data_clean) * 100))\n",
    "print('{:.2f}% rows have less than 7 missing data.'.format(len(data_clean[data_clean['Missing_num']<=7]) / len(data_clean) * 100))\n",
    "print('{:.2f}% rows have less than 8 missing data.'.format(len(data_clean[data_clean['Missing_num']<=8]) / len(data_clean) * 100))\n",
    "print('{:.2f}% rows have less than 9 missing data.'.format(len(data_clean[data_clean['Missing_num']<=9]) / len(data_clean) * 100))\n",
    "print('{:.2f}% rows have less than 10 missing data.'.format(len(data_clean[data_clean['Missing_num']<=10]) / len(data_clean) * 100))"
   ]
  },
  {
   "cell_type": "code",
   "execution_count": 47,
   "metadata": {},
   "outputs": [],
   "source": [
    "# drop rows has more than 4 missing values (the 2 rows with 9 missing values)\n",
    "missing_threshold = 4\n",
    "data_clean = data_clean[data_clean['Missing_num']<=missing_threshold].drop('Missing_num', axis = 1)"
   ]
  },
  {
   "cell_type": "code",
   "execution_count": 48,
   "metadata": {},
   "outputs": [],
   "source": [
    "# convert continous data from str into float\n",
    "data_clean['price'] = data_clean['price'].map(lambda price: float(price[1:].replace(',', '')), na_action='ignore')\n",
    "data_clean['host_response_rate'] = data_clean['host_response_rate'].map(lambda rate: np.float(rate[:-1]) / 100, na_action='ignore')\n",
    "data_clean['host_acceptance_rate'] = data_clean['host_acceptance_rate'].map(lambda rate: np.float(rate[:-1]) / 100, na_action='ignore')"
   ]
  },
  {
   "cell_type": "code",
   "execution_count": 49,
   "metadata": {},
   "outputs": [
    {
     "data": {
      "image/png": "[encoded data removed]",
      "text/plain": [
       "<Figure size 1440x1440 with 2 Axes>"
      ]
     },
     "metadata": {
      "needs_background": "light"
     },
     "output_type": "display_data"
    }
   ],
   "source": [
    "plt.figure(figsize=(20,20))\n",
    "sns.heatmap(data_clean.corr())\n",
    "plt.show()"
   ]
  },
  {
   "cell_type": "code",
   "execution_count": 50,
   "metadata": {},
   "outputs": [],
   "source": [
    "def oneHot(feat, data):\n",
    "    \"\"\"\n",
    "    encode an categorical data as one-hot\n",
    "    \"\"\"\n",
    "    print('Ecoding {} as one-hot..'.format(feat))\n",
    "    cur_dummies = pd.get_dummies(data[feat], prefix=feat)\n",
    "    data.drop(feat, axis=1, inplace=True)\n",
    "    data = pd.concat([data, cur_dummies], axis=1)\n",
    "    return data"
   ]
  },
  {
   "cell_type": "code",
   "execution_count": 51,
   "metadata": {},
   "outputs": [
    {
     "name": "stdout",
     "output_type": "stream",
     "text": [
      "Ecoding host_response_time as one-hot..\n",
      "host_response_rate is a continous varibale\n",
      "host_acceptance_rate is a continous varibale\n",
      "Ecoding host_is_superhost as one-hot..\n",
      "Ecoding host_has_profile_pic as one-hot..\n",
      "Ecoding host_identity_verified as one-hot..\n",
      "Ecoding is_location_exact as one-hot..\n",
      "Ecoding room_type as one-hot..\n",
      "bathrooms is a continous varibale\n",
      "bedrooms is a continous varibale\n",
      "beds is a continous varibale\n",
      "Ecoding bed_type as one-hot..\n",
      "price is a continous varibale\n",
      "Ecoding instant_bookable as one-hot..\n",
      "Ecoding cancellation_policy as one-hot..\n",
      "Ecoding require_guest_profile_picture as one-hot..\n",
      "Ecoding require_guest_phone_verification as one-hot..\n"
     ]
    }
   ],
   "source": [
    "feats = []\n",
    "conts = []\n",
    "for feat in data_clean.columns:\n",
    "    if data_clean[feat].dtype == np.float:\n",
    "        print('{} is a continous varibale'.format(feat))\n",
    "        # take a look which columns are float\n",
    "        conts.append(feat)\n",
    "    elif len(data_clean[feat].value_counts()) <= 5:\n",
    "        # for categorical variables with small categories, encode them as one hot\n",
    "        data_clean = oneHot(feat, data_clean)\n",
    "    else:\n",
    "        # if categorical variables have many distinct values, we should be more careful\n",
    "        feats.append(feat)"
   ]
  },
  {
   "cell_type": "code",
   "execution_count": 52,
   "metadata": {},
   "outputs": [
    {
     "name": "stdout",
     "output_type": "stream",
     "text": [
      "Ecoding host_since as one-hot..\n"
     ]
    }
   ],
   "source": [
    "data_clean = oneHot('host_since', data_clean)"
   ]
  },
  {
   "cell_type": "code",
   "execution_count": 53,
   "metadata": {},
   "outputs": [
    {
     "name": "stdout",
     "output_type": "stream",
     "text": [
      "Dropping host_location...\n"
     ]
    }
   ],
   "source": [
    "data_clean = drop(data_clean, 'host_location')"
   ]
  },
  {
   "cell_type": "code",
   "execution_count": 54,
   "metadata": {},
   "outputs": [
    {
     "name": "stdout",
     "output_type": "stream",
     "text": [
      "Dropping host_neighbourhood...\n"
     ]
    }
   ],
   "source": [
    "data_clean = drop(data_clean, 'host_neighbourhood')"
   ]
  },
  {
   "cell_type": "code",
   "execution_count": 55,
   "metadata": {},
   "outputs": [
    {
     "name": "stdout",
     "output_type": "stream",
     "text": [
      "Ecoding neighbourhood_group_cleansed as one-hot..\n"
     ]
    }
   ],
   "source": [
    "data_clean = oneHot('neighbourhood_group_cleansed', data_clean)"
   ]
  },
  {
   "cell_type": "code",
   "execution_count": 56,
   "metadata": {},
   "outputs": [
    {
     "name": "stdout",
     "output_type": "stream",
     "text": [
      "Ecoding property_type as one-hot..\n"
     ]
    }
   ],
   "source": [
    "data_clean = oneHot('property_type', data_clean)"
   ]
  },
  {
   "cell_type": "code",
   "execution_count": 57,
   "metadata": {},
   "outputs": [
    {
     "name": "stdout",
     "output_type": "stream",
     "text": [
      "Dropping calendar_updated...\n"
     ]
    }
   ],
   "source": [
    "data_clean = drop(data_clean, 'calendar_updated')"
   ]
  },
  {
   "cell_type": "code",
   "execution_count": 58,
   "metadata": {},
   "outputs": [],
   "source": [
    "data_clean['amenities'] = data_clean['amenities'].map(lambda amenities: amenities[1:-1].replace('\"', '').split(','))"
   ]
  },
  {
   "cell_type": "code",
   "execution_count": 59,
   "metadata": {},
   "outputs": [
    {
     "name": "stdout",
     "output_type": "stream",
     "text": [
      "22\n",
      "['TV', 'Cable TV', 'Internet', 'Wireless Internet', 'Kitchen', 'Free Parking on Premises', 'Pets live on this property', 'Dog(s)', 'Elevator in Building', 'Hot Tub', 'Indoor Fireplace', 'Buzzer/Wireless Intercom', 'Heating', 'Family/Kid Friendly', 'Washer', 'Dryer', 'Smoke Detector', 'Essentials', 'Shampoo', 'Hangers', 'Iron', 'Laptop Friendly Workspace']\n"
     ]
    }
   ],
   "source": [
    "amenities = set()\n",
    "for a in data_clean['amenities']:\n",
    "    amenities |= set(a)\n",
    "print(len(a))\n",
    "print(a)"
   ]
  },
  {
   "cell_type": "code",
   "execution_count": 60,
   "metadata": {},
   "outputs": [
    {
     "name": "stdout",
     "output_type": "stream",
     "text": [
      "Dropping amenities...\n"
     ]
    }
   ],
   "source": [
    "# create new bainary columns if one amentity exist\n",
    "for a in amenities:\n",
    "    data_clean[a] = data_clean['amenities'].apply(lambda amenities: 1 if a in amenities else 0)\n",
    "# do not forget to drop orignal columns\n",
    "data_clean = drop(data_clean, 'amenities')"
   ]
  },
  {
   "cell_type": "code",
   "execution_count": 61,
   "metadata": {},
   "outputs": [
    {
     "data": {
      "text/plain": [
       "1315"
      ]
     },
     "execution_count": 61,
     "metadata": {},
     "output_type": "execute_result"
    }
   ],
   "source": [
    "data_clean.isnull().sum().sum()"
   ]
  },
  {
   "cell_type": "code",
   "execution_count": 62,
   "metadata": {},
   "outputs": [],
   "source": [
    "for feat in data_clean.columns:\n",
    "    data_clean[feat].fillna(data_clean[feat].median(), inplace=True)"
   ]
  },
  {
   "cell_type": "code",
   "execution_count": 63,
   "metadata": {},
   "outputs": [
    {
     "data": {
      "text/plain": [
       "0"
      ]
     },
     "execution_count": 63,
     "metadata": {},
     "output_type": "execute_result"
    }
   ],
   "source": [
    "data_clean.isnull().sum().sum()"
   ]
  },
  {
   "cell_type": "code",
   "execution_count": 64,
   "metadata": {},
   "outputs": [],
   "source": [
    "from sklearn import preprocessing as p\n",
    "scaler = p.StandardScaler()\n",
    "columns = data_clean.columns\n",
    "data_clean = scaler.fit_transform(data_clean)\n",
    "data_clean = pd.DataFrame(data_clean)\n",
    "data_clean.columns = columns"
   ]
  },
  {
   "cell_type": "code",
   "execution_count": 65,
   "metadata": {},
   "outputs": [
    {
     "data": {
      "text/html": [
       "<div>\n",
       "<style scoped>\n",
       "    .dataframe tbody tr th:only-of-type {\n",
       "        vertical-align: middle;\n",
       "    }\n",
       "\n",
       "    .dataframe tbody tr th {\n",
       "        vertical-align: top;\n",
       "    }\n",
       "\n",
       "    .dataframe thead th {\n",
       "        text-align: right;\n",
       "    }\n",
       "</style>\n",
       "<table border=\"1\" class=\"dataframe\">\n",
       "  <thead>\n",
       "    <tr style=\"text-align: right;\">\n",
       "      <th></th>\n",
       "      <th>host_response_rate</th>\n",
       "      <th>host_acceptance_rate</th>\n",
       "      <th>accommodates</th>\n",
       "      <th>bathrooms</th>\n",
       "      <th>bedrooms</th>\n",
       "      <th>beds</th>\n",
       "      <th>price</th>\n",
       "      <th>guests_included</th>\n",
       "      <th>minimum_nights</th>\n",
       "      <th>maximum_nights</th>\n",
       "      <th>...</th>\n",
       "      <th>Other pet(s)</th>\n",
       "      <th>Pets live on this property</th>\n",
       "      <th>TV</th>\n",
       "      <th>Suitable for Events</th>\n",
       "      <th>Smoke Detector</th>\n",
       "      <th>First Aid Kit</th>\n",
       "      <th>Doorman</th>\n",
       "      <th>Heating</th>\n",
       "      <th>Gym</th>\n",
       "      <th>Indoor Fireplace</th>\n",
       "    </tr>\n",
       "  </thead>\n",
       "  <tbody>\n",
       "    <tr>\n",
       "      <th>0</th>\n",
       "      <td>0.037181</td>\n",
       "      <td>0.01619</td>\n",
       "      <td>0.328625</td>\n",
       "      <td>-0.438598</td>\n",
       "      <td>-0.348562</td>\n",
       "      <td>-0.645582</td>\n",
       "      <td>-0.475978</td>\n",
       "      <td>0.249438</td>\n",
       "      <td>-0.083993</td>\n",
       "      <td>-0.246805</td>\n",
       "      <td>...</td>\n",
       "      <td>-0.116386</td>\n",
       "      <td>-0.548687</td>\n",
       "      <td>0.695464</td>\n",
       "      <td>-0.240103</td>\n",
       "      <td>-2.473743</td>\n",
       "      <td>-0.886858</td>\n",
       "      <td>-0.150027</td>\n",
       "      <td>0.229542</td>\n",
       "      <td>-0.361478</td>\n",
       "      <td>-0.549495</td>\n",
       "    </tr>\n",
       "    <tr>\n",
       "      <th>1</th>\n",
       "      <td>0.216326</td>\n",
       "      <td>0.01619</td>\n",
       "      <td>0.328625</td>\n",
       "      <td>-0.438598</td>\n",
       "      <td>-0.348562</td>\n",
       "      <td>-0.645582</td>\n",
       "      <td>0.244331</td>\n",
       "      <td>-0.513268</td>\n",
       "      <td>-0.022673</td>\n",
       "      <td>-0.410130</td>\n",
       "      <td>...</td>\n",
       "      <td>-0.116386</td>\n",
       "      <td>-0.548687</td>\n",
       "      <td>0.695464</td>\n",
       "      <td>-0.240103</td>\n",
       "      <td>0.404246</td>\n",
       "      <td>1.127576</td>\n",
       "      <td>-0.150027</td>\n",
       "      <td>0.229542</td>\n",
       "      <td>-0.361478</td>\n",
       "      <td>-0.549495</td>\n",
       "    </tr>\n",
       "    <tr>\n",
       "      <th>2</th>\n",
       "      <td>-2.560422</td>\n",
       "      <td>0.01619</td>\n",
       "      <td>3.868239</td>\n",
       "      <td>5.499479</td>\n",
       "      <td>4.183336</td>\n",
       "      <td>4.620267</td>\n",
       "      <td>9.386719</td>\n",
       "      <td>6.351088</td>\n",
       "      <td>0.099966</td>\n",
       "      <td>-0.445765</td>\n",
       "      <td>...</td>\n",
       "      <td>-0.116386</td>\n",
       "      <td>1.822534</td>\n",
       "      <td>0.695464</td>\n",
       "      <td>-0.240103</td>\n",
       "      <td>0.404246</td>\n",
       "      <td>-0.886858</td>\n",
       "      <td>-0.150027</td>\n",
       "      <td>0.229542</td>\n",
       "      <td>-0.361478</td>\n",
       "      <td>1.819853</td>\n",
       "    </tr>\n",
       "    <tr>\n",
       "      <th>3</th>\n",
       "      <td>0.395471</td>\n",
       "      <td>0.01619</td>\n",
       "      <td>-0.177034</td>\n",
       "      <td>-0.438598</td>\n",
       "      <td>-1.481536</td>\n",
       "      <td>0.232060</td>\n",
       "      <td>-0.309753</td>\n",
       "      <td>-0.513268</td>\n",
       "      <td>-0.083993</td>\n",
       "      <td>0.204568</td>\n",
       "      <td>...</td>\n",
       "      <td>-0.116386</td>\n",
       "      <td>-0.548687</td>\n",
       "      <td>-1.437889</td>\n",
       "      <td>-0.240103</td>\n",
       "      <td>0.404246</td>\n",
       "      <td>-0.886858</td>\n",
       "      <td>-0.150027</td>\n",
       "      <td>0.229542</td>\n",
       "      <td>-0.361478</td>\n",
       "      <td>1.819853</td>\n",
       "    </tr>\n",
       "    <tr>\n",
       "      <th>4</th>\n",
       "      <td>0.395471</td>\n",
       "      <td>0.01619</td>\n",
       "      <td>1.339943</td>\n",
       "      <td>1.257995</td>\n",
       "      <td>1.917387</td>\n",
       "      <td>1.109701</td>\n",
       "      <td>3.568836</td>\n",
       "      <td>3.300263</td>\n",
       "      <td>-0.083993</td>\n",
       "      <td>0.204568</td>\n",
       "      <td>...</td>\n",
       "      <td>-0.116386</td>\n",
       "      <td>-0.548687</td>\n",
       "      <td>0.695464</td>\n",
       "      <td>-0.240103</td>\n",
       "      <td>0.404246</td>\n",
       "      <td>1.127576</td>\n",
       "      <td>-0.150027</td>\n",
       "      <td>0.229542</td>\n",
       "      <td>-0.361478</td>\n",
       "      <td>-0.549495</td>\n",
       "    </tr>\n",
       "  </tbody>\n",
       "</table>\n",
       "<p>5 rows × 1496 columns</p>\n",
       "</div>"
      ],
      "text/plain": [
       "   host_response_rate  host_acceptance_rate  accommodates  bathrooms  \\\n",
       "0            0.037181               0.01619      0.328625  -0.438598   \n",
       "1            0.216326               0.01619      0.328625  -0.438598   \n",
       "2           -2.560422               0.01619      3.868239   5.499479   \n",
       "3            0.395471               0.01619     -0.177034  -0.438598   \n",
       "4            0.395471               0.01619      1.339943   1.257995   \n",
       "\n",
       "   bedrooms      beds     price  guests_included  minimum_nights  \\\n",
       "0 -0.348562 -0.645582 -0.475978         0.249438       -0.083993   \n",
       "1 -0.348562 -0.645582  0.244331        -0.513268       -0.022673   \n",
       "2  4.183336  4.620267  9.386719         6.351088        0.099966   \n",
       "3 -1.481536  0.232060 -0.309753        -0.513268       -0.083993   \n",
       "4  1.917387  1.109701  3.568836         3.300263       -0.083993   \n",
       "\n",
       "   maximum_nights  ...  Other pet(s)  Pets live on this property        TV  \\\n",
       "0       -0.246805  ...     -0.116386                   -0.548687  0.695464   \n",
       "1       -0.410130  ...     -0.116386                   -0.548687  0.695464   \n",
       "2       -0.445765  ...     -0.116386                    1.822534  0.695464   \n",
       "3        0.204568  ...     -0.116386                   -0.548687 -1.437889   \n",
       "4        0.204568  ...     -0.116386                   -0.548687  0.695464   \n",
       "\n",
       "   Suitable for Events  Smoke Detector  First Aid Kit   Doorman   Heating  \\\n",
       "0            -0.240103       -2.473743      -0.886858 -0.150027  0.229542   \n",
       "1            -0.240103        0.404246       1.127576 -0.150027  0.229542   \n",
       "2            -0.240103        0.404246      -0.886858 -0.150027  0.229542   \n",
       "3            -0.240103        0.404246      -0.886858 -0.150027  0.229542   \n",
       "4            -0.240103        0.404246       1.127576 -0.150027  0.229542   \n",
       "\n",
       "        Gym  Indoor Fireplace  \n",
       "0 -0.361478         -0.549495  \n",
       "1 -0.361478         -0.549495  \n",
       "2 -0.361478          1.819853  \n",
       "3 -0.361478          1.819853  \n",
       "4 -0.361478         -0.549495  \n",
       "\n",
       "[5 rows x 1496 columns]"
      ]
     },
     "execution_count": 65,
     "metadata": {},
     "output_type": "execute_result"
    }
   ],
   "source": [
    "data_clean.head()"
   ]
  },
  {
   "cell_type": "code",
   "execution_count": 66,
   "metadata": {},
   "outputs": [
    {
     "name": "stdout",
     "output_type": "stream",
     "text": [
      "Dropping price...\n"
     ]
    }
   ],
   "source": [
    "x = drop(data_clean, 'price')\n",
    "y = data_clean['price']"
   ]
  },
  {
   "cell_type": "code",
   "execution_count": 67,
   "metadata": {},
   "outputs": [],
   "source": [
    "from sklearn.model_selection import train_test_split\n",
    "x_train, x_test, y_train, y_test = train_test_split(x, y, test_size=0.2, random_state=42)"
   ]
  },
  {
   "cell_type": "code",
   "execution_count": 68,
   "metadata": {},
   "outputs": [],
   "source": [
    "from sklearn.metrics import mean_squared_error, r2_score\n",
    "\n",
    "def train(model):\n",
    "    model.fit(x_train, y_train)\n",
    "    y_train_pred = model.predict(x_train)\n",
    "    y_test_pred = model.predict(x_test)\n",
    "    \n",
    "    mse = mean_squared_error(y_train, y_train_pred)\n",
    "    r2 = r2_score(y_train, y_train_pred)\n",
    "    print('For training data, mean squared error: {:.4f}, R2: {:.4f}'.format(mse, r2))\n",
    "\n",
    "    mse = mean_squared_error(y_test, y_test_pred)\n",
    "    r2 = r2_score(y_test, y_test_pred)\n",
    "    print('For test data, mean squared error: {:.4f}, R2: {:.4f}'.format(mse, r2))"
   ]
  },
  {
   "cell_type": "code",
   "execution_count": 69,
   "metadata": {},
   "outputs": [
    {
     "name": "stdout",
     "output_type": "stream",
     "text": [
      "For training data, mean squared error: 0.2063, R2: 0.7924\n",
      "For test data, mean squared error: 5551958849326243880571502592.0000, R2: -5417629326135757564213723136.0000\n"
     ]
    }
   ],
   "source": [
    "# linear regression\n",
    "from sklearn.linear_model import LinearRegression\n",
    "lr = LinearRegression()\n",
    "train(lr)"
   ]
  },
  {
   "cell_type": "code",
   "execution_count": 70,
   "metadata": {},
   "outputs": [
    {
     "name": "stdout",
     "output_type": "stream",
     "text": [
      "For training data, mean squared error: 0.1935, R2: 0.8053\n",
      "For test data, mean squared error: 0.5033, R2: 0.5089\n"
     ]
    }
   ],
   "source": [
    "# ridge regression\n",
    "from sklearn.linear_model import Ridge\n",
    "rr = Ridge(alpha=0.5)\n",
    "train(rr)"
   ]
  },
  {
   "cell_type": "code",
   "execution_count": 71,
   "metadata": {},
   "outputs": [
    {
     "name": "stdout",
     "output_type": "stream",
     "text": [
      "For training data, mean squared error: 0.4763, R2: 0.5207\n",
      "For test data, mean squared error: 0.4565, R2: 0.5546\n"
     ]
    }
   ],
   "source": [
    "# lasso regression\n",
    "from sklearn.linear_model import Lasso\n",
    "lasso = Lasso(alpha=0.1)\n",
    "train(lasso)"
   ]
  },
  {
   "cell_type": "code",
   "execution_count": 72,
   "metadata": {},
   "outputs": [],
   "source": [
    "coef = lasso.coef_\n",
    "# to get the order of index\n",
    "ind = np.argsort(-abs(coef))"
   ]
  },
  {
   "cell_type": "code",
   "execution_count": 73,
   "metadata": {},
   "outputs": [],
   "source": [
    "lab = x.columns[ind][:30]"
   ]
  },
  {
   "cell_type": "code",
   "execution_count": 74,
   "metadata": {},
   "outputs": [
    {
     "data": {
      "image/png": "[encoded data removed]",
      "text/plain": [
       "<Figure size 1080x3600 with 1 Axes>"
      ]
     },
     "metadata": {
      "needs_background": "light"
     },
     "output_type": "display_data"
    }
   ],
   "source": [
    "# draw a bar plot with coefficeint of features in desending order of absolute value\n",
    "x = range(30)\n",
    "y = coef[ind][:30]\n",
    "    \n",
    "plt.figure(figsize=(15,50))\n",
    "ax = plt.subplot()\n",
    "    \n",
    "# draw a vertical black line in the middle\n",
    "plt.plot([0] * (32), range(-1,31), 'k', linewidth=2)\n",
    "\n",
    "# invert y axis\n",
    "plt.gca().invert_yaxis()\n",
    "ax.set_yticks(x)\n",
    "ax.set_yticklabels(lab)\n",
    "\n",
    "plt.barh(x, y, color=sns.color_palette('GnBu'))\n",
    "\n",
    "# adjust position\n",
    "for rect, label in zip(ax.patches, y):\n",
    "    if label >= 0:\n",
    "        width = rect.get_width() + 0.01\n",
    "    else:\n",
    "        width = rect.get_width() - 0.01\n",
    "    label = '{:.2f}'.format(label)\n",
    "    ax.text(width, rect.get_y()+0.55, label, ha='center', va='bottom', fontsize=12)\n",
    "    \n",
    "plt.show()"
   ]
  },
  {
   "cell_type": "code",
   "execution_count": null,
   "metadata": {},
   "outputs": [],
   "source": []
  }
 ],
 "metadata": {
  "kernelspec": {
   "display_name": "Python 3",
   "language": "python",
   "name": "python3"
  },
  "language_info": {
   "codemirror_mode": {
    "name": "ipython",
    "version": 3
   },
   "file_extension": ".py",
   "mimetype": "text/x-python",
   "name": "python",
   "nbconvert_exporter": "python",
   "pygments_lexer": "ipython3",
   "version": "3.7.3"
  }
 },
 "nbformat": 4,
 "nbformat_minor": 2
}
